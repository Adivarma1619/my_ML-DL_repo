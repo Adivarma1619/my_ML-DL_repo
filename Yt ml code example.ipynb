{
 "cells": [
  {
   "cell_type": "code",
   "execution_count": 76,
   "id": "79235368-bdf5-4145-a7b2-77524bc4e9bc",
   "metadata": {},
   "outputs": [],
   "source": [
    "import pandas as pd\n",
    "from sklearn.tree import DecisionTreeClassifier\n",
    "# from sklearn.model_selection import train_test_split\n",
    "# from sklearn.metrics import accuracy_score\n",
    "import joblib"
   ]
  },
  {
   "cell_type": "code",
   "execution_count": 77,
   "id": "bbdc38ba-219e-47be-947c-3f85335905d2",
   "metadata": {},
   "outputs": [],
   "source": [
    "# mv = pd.read_csv('movies.csv')\n",
    "# x = mv.drop(columns=['genre'])\n",
    "# y = mv['genre']\n",
    "# # x_train, x_test, y_train, y_test = train_test_split(x, y, test_size=0.2, random_state=42)"
   ]
  },
  {
   "cell_type": "code",
   "execution_count": 78,
   "id": "97c89750-6036-4e03-a51f-dd2e72b1193c",
   "metadata": {},
   "outputs": [
    {
     "data": {
      "text/plain": [
       "array(['Documentary'], dtype=object)"
      ]
     },
     "execution_count": 78,
     "metadata": {},
     "output_type": "execute_result"
    }
   ],
   "source": [
    "# model = DecisionTreeClassifier()\n",
    "# model.fit(x.values, y.values)\n",
    "model = joblib.load('movie_rec.joblib')\n",
    "# predicts = model.predict(x_test.values)\n",
    "# accuracy_score(y_test, predicts)\n",
    "predicts = model.predict([[29, 0]])\n",
    "predicts"
   ]
  },
  {
   "cell_type": "code",
   "execution_count": null,
   "id": "8ee05391-a790-4821-b6fe-be163875923b",
   "metadata": {},
   "outputs": [],
   "source": []
  }
 ],
 "metadata": {
  "kernelspec": {
   "display_name": "Python 3 (ipykernel)",
   "language": "python",
   "name": "python3"
  },
  "language_info": {
   "codemirror_mode": {
    "name": "ipython",
    "version": 3
   },
   "file_extension": ".py",
   "mimetype": "text/x-python",
   "name": "python",
   "nbconvert_exporter": "python",
   "pygments_lexer": "ipython3",
   "version": "3.13.5"
  }
 },
 "nbformat": 4,
 "nbformat_minor": 5
}
